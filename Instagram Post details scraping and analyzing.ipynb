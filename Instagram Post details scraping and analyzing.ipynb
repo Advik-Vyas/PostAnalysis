{
 "cells": [
  {
   "cell_type": "markdown",
   "id": "5845d4a1",
   "metadata": {},
   "source": [
    "Importing all required files"
   ]
  },
  {
   "cell_type": "code",
   "execution_count": 1,
   "id": "810a45ba",
   "metadata": {},
   "outputs": [],
   "source": [
    "import os\n",
    "import numpy as np\n",
    "import pandas as pd\n",
    "from instagramy import InstagramUser, InstagramPost\n",
    "from instagramy.plugins.analysis import analyze_users_popularity,analyze_user_recent_posts\n"
   ]
  },
  {
   "cell_type": "markdown",
   "id": "94176b57",
   "metadata": {},
   "source": [
    "Get session id, create a User"
   ]
  },
  {
   "cell_type": "code",
   "execution_count": 3,
   "id": "6b559e33",
   "metadata": {
    "scrolled": true
   },
   "outputs": [],
   "source": [
    "session_id = os.environ.get('SESSION_ID')\n",
    "user = InstagramUser('pokayyman',from_cache = True)\n"
   ]
  },
  {
   "cell_type": "markdown",
   "id": "a8b21e65",
   "metadata": {},
   "source": [
    "Get user's last 12 posts"
   ]
  },
  {
   "cell_type": "code",
   "execution_count": 4,
   "id": "99d63102",
   "metadata": {
    "scrolled": true
   },
   "outputs": [
    {
     "data": {
      "text/plain": [
       "[Post(likes=19, comments=0, caption=None, is_video=True, timestamp=1619840168, location=None, shortcode='COUMGsqpaee', post_url='https://www.instagram.com/p/COUMGsqpaee/', display_url='https://instagram.fmaa8-1.fna.fbcdn.net/v/t51.2885-15/180115068_321365669336104_6547008492627579945_n.jpg?stp=dst-jpg_e35&_nc_ht=instagram.fmaa8-1.fna.fbcdn.net&_nc_cat=104&_nc_ohc=ZflGc5d6hLsAX-Dizc0&edm=ABfd0MgBAAAA&ccb=7-5&oh=00_AT9v9XzsDwwW63qDAcxZBpADh9V9SiGLLJElPGjm1ygSZQ&oe=6330323E&_nc_sid=7bff83', video_url='https://instagram.fmaa8-1.fna.fbcdn.net/v/t50.2886-16/179346302_2304439239693345_1900811655596719735_n.mp4?efg=eyJ2ZW5jb2RlX3RhZyI6InZ0c192b2RfdXJsZ2VuLjcyMC5mZWVkLmRlZmF1bHQiLCJxZV9ncm91cHMiOiJbXCJpZ193ZWJfZGVsaXZlcnlfdnRzX290ZlwiXSJ9&_nc_ht=instagram.fmaa8-1.fna.fbcdn.net&_nc_cat=109&_nc_ohc=hO3g513IqLoAX9PTzjN&edm=ABfd0MgBAAAA&vs=17870466110489506_2760358666&_nc_vs=HBksFQAYJEdINmJzQW9oMUVrUzRDOElBSGVfd3p3aENtRWFia1lMQUFBRhUAAsgBABUAGCRHTXlSeFFvVFFoQ0hVcWdBQVA4NFhXVjFBMU5WYmtZTEFBQUYVAgLIAQAoABgAGwAVAAAmxKiJ5oDGvj8VAigCQzMsF0BJFT987ZFoGBJkYXNoX2Jhc2VsaW5lXzJfdjERAHXqBwA%3D&ccb=7-5&oe=633010E8&oh=00_AT-29U3sxSu1So4jfbFN8PvFXTDe3xUIdecozmxdTba67A&_nc_sid=7bff83', video_view_count=81, post_source='https://instagram.fmaa8-1.fna.fbcdn.net/v/t50.2886-16/179346302_2304439239693345_1900811655596719735_n.mp4?efg=eyJ2ZW5jb2RlX3RhZyI6InZ0c192b2RfdXJsZ2VuLjcyMC5mZWVkLmRlZmF1bHQiLCJxZV9ncm91cHMiOiJbXCJpZ193ZWJfZGVsaXZlcnlfdnRzX290ZlwiXSJ9&_nc_ht=instagram.fmaa8-1.fna.fbcdn.net&_nc_cat=109&_nc_ohc=hO3g513IqLoAX9PTzjN&edm=ABfd0MgBAAAA&vs=17870466110489506_2760358666&_nc_vs=HBksFQAYJEdINmJzQW9oMUVrUzRDOElBSGVfd3p3aENtRWFia1lMQUFBRhUAAsgBABUAGCRHTXlSeFFvVFFoQ0hVcWdBQVA4NFhXVjFBMU5WYmtZTEFBQUYVAgLIAQAoABgAGwAVAAAmxKiJ5oDGvj8VAigCQzMsF0BJFT987ZFoGBJkYXNoX2Jhc2VsaW5lXzJfdjERAHXqBwA%3D&ccb=7-5&oe=633010E8&oh=00_AT-29U3sxSu1So4jfbFN8PvFXTDe3xUIdecozmxdTba67A&_nc_sid=7bff83', taken_at_timestamp=datetime.datetime(2021, 5, 1, 9, 6, 8)),\n",
       " Post(likes=26, comments=6, caption=None, is_video=True, timestamp=1619753370, location=None, shortcode='CORmjvkpbyB', post_url='https://www.instagram.com/p/CORmjvkpbyB/', display_url='https://instagram.fmaa8-1.fna.fbcdn.net/v/t51.2885-15/179793728_831566574384511_83407239964642623_n.jpg?stp=dst-jpg_e35&_nc_ht=instagram.fmaa8-1.fna.fbcdn.net&_nc_cat=107&_nc_ohc=o8-kxf7RxlkAX8AF2SY&edm=ABfd0MgBAAAA&ccb=7-5&oh=00_AT_0R1ZTcDsusy7zSvZXagBJ57e6_sUKxqlf-edEOdyrew&oe=63302D4C&_nc_sid=7bff83', video_url='https://instagram.fmaa8-1.fna.fbcdn.net/v/t50.2886-16/178832614_290210139317918_5693195883943125499_n.mp4?efg=eyJ2ZW5jb2RlX3RhZyI6InZ0c192b2RfdXJsZ2VuLjcyMC5mZWVkLmRlZmF1bHQiLCJxZV9ncm91cHMiOiJbXCJpZ193ZWJfZGVsaXZlcnlfdnRzX290ZlwiXSJ9&_nc_ht=instagram.fmaa8-1.fna.fbcdn.net&_nc_cat=102&_nc_ohc=E-lcnB_1WsYAX9164NC&edm=ABfd0MgBAAAA&vs=18221359723005604_1242349481&_nc_vs=HBksFQAYJEdPYkVxQXFlcGtQUThRY0JBUHRoSlJ0X1N3SlBia1lMQUFBRhUAAsgBABUAGCRHTWtMc0FyY1Rzdk9VeVVGQUpZTkpLNV9udGxoYmtZTEFBQUYVAgLIAQAoABgAGwAVAAAmyMOLy9qO3kAVAigCQzMsF0BN2ZmZmZmaGBJkYXNoX2Jhc2VsaW5lXzJfdjERAHXqBwA%3D&ccb=7-5&oe=633095B0&oh=00_AT8JX-u320Qyff_WdUqu0MJuSJQSMHA8xC14bWPcQMv9kg&_nc_sid=7bff83', video_view_count=92, post_source='https://instagram.fmaa8-1.fna.fbcdn.net/v/t50.2886-16/178832614_290210139317918_5693195883943125499_n.mp4?efg=eyJ2ZW5jb2RlX3RhZyI6InZ0c192b2RfdXJsZ2VuLjcyMC5mZWVkLmRlZmF1bHQiLCJxZV9ncm91cHMiOiJbXCJpZ193ZWJfZGVsaXZlcnlfdnRzX290ZlwiXSJ9&_nc_ht=instagram.fmaa8-1.fna.fbcdn.net&_nc_cat=102&_nc_ohc=E-lcnB_1WsYAX9164NC&edm=ABfd0MgBAAAA&vs=18221359723005604_1242349481&_nc_vs=HBksFQAYJEdPYkVxQXFlcGtQUThRY0JBUHRoSlJ0X1N3SlBia1lMQUFBRhUAAsgBABUAGCRHTWtMc0FyY1Rzdk9VeVVGQUpZTkpLNV9udGxoYmtZTEFBQUYVAgLIAQAoABgAGwAVAAAmyMOLy9qO3kAVAigCQzMsF0BN2ZmZmZmaGBJkYXNoX2Jhc2VsaW5lXzJfdjERAHXqBwA%3D&ccb=7-5&oe=633095B0&oh=00_AT8JX-u320Qyff_WdUqu0MJuSJQSMHA8xC14bWPcQMv9kg&_nc_sid=7bff83', taken_at_timestamp=datetime.datetime(2021, 4, 30, 8, 59, 30)),\n",
       " Post(likes=26, comments=2, caption=None, is_video=True, timestamp=1619667516, location=None, shortcode='COPC0KXJudM', post_url='https://www.instagram.com/p/COPC0KXJudM/', display_url='https://instagram.fmaa8-1.fna.fbcdn.net/v/t51.2885-15/178601099_580298959537284_6406502618586134837_n.jpg?stp=dst-jpg_e35&_nc_ht=instagram.fmaa8-1.fna.fbcdn.net&_nc_cat=100&_nc_ohc=bBYtR1_o58IAX8IaRSK&edm=ABfd0MgBAAAA&ccb=7-5&oh=00_AT9ishLA3gbbVXRm7EUV-0V-CuG_J4crYr7Hfa-cnlt8XA&oe=6330762A&_nc_sid=7bff83', video_url='https://instagram.fmaa8-1.fna.fbcdn.net/v/t50.2886-16/174182901_1169558250185801_5395218069164287524_n.mp4?efg=eyJ2ZW5jb2RlX3RhZyI6InZ0c192b2RfdXJsZ2VuLjcyMC5mZWVkLmRlZmF1bHQiLCJxZV9ncm91cHMiOiJbXCJpZ193ZWJfZGVsaXZlcnlfdnRzX290ZlwiXSJ9&_nc_ht=instagram.fmaa8-1.fna.fbcdn.net&_nc_cat=105&_nc_ohc=W9UQDGWUVs0AX_kKoTV&edm=ABfd0MgBAAAA&vs=17857092305527287_3133564565&_nc_vs=HBksFQAYJEdQWFJZUXBKNUFzQXRTY0VBQ1JtVHJJLXF0OUtia1lMQUFBRhUAAsgBABUAGCRHTEtVbXdwSGRqX3BEWHdEQUt0TWRnc1JJSjEzYmtZTEFBQUYVAgLIAQAoABgAGwAVAAAm7p3FrMe7uD8VAigCQzMsF0BHLtkWhysCGBJkYXNoX2Jhc2VsaW5lXzJfdjERAHXqBwA%3D&ccb=7-5&oe=633039D1&oh=00_AT_1ULeXUDTR1hetMVNkK7Q3whhlWbifkZ4z8vs0xsaqoA&_nc_sid=7bff83', video_view_count=90, post_source='https://instagram.fmaa8-1.fna.fbcdn.net/v/t50.2886-16/174182901_1169558250185801_5395218069164287524_n.mp4?efg=eyJ2ZW5jb2RlX3RhZyI6InZ0c192b2RfdXJsZ2VuLjcyMC5mZWVkLmRlZmF1bHQiLCJxZV9ncm91cHMiOiJbXCJpZ193ZWJfZGVsaXZlcnlfdnRzX290ZlwiXSJ9&_nc_ht=instagram.fmaa8-1.fna.fbcdn.net&_nc_cat=105&_nc_ohc=W9UQDGWUVs0AX_kKoTV&edm=ABfd0MgBAAAA&vs=17857092305527287_3133564565&_nc_vs=HBksFQAYJEdQWFJZUXBKNUFzQXRTY0VBQ1JtVHJJLXF0OUtia1lMQUFBRhUAAsgBABUAGCRHTEtVbXdwSGRqX3BEWHdEQUt0TWRnc1JJSjEzYmtZTEFBQUYVAgLIAQAoABgAGwAVAAAm7p3FrMe7uD8VAigCQzMsF0BHLtkWhysCGBJkYXNoX2Jhc2VsaW5lXzJfdjERAHXqBwA%3D&ccb=7-5&oe=633039D1&oh=00_AT_1ULeXUDTR1hetMVNkK7Q3whhlWbifkZ4z8vs0xsaqoA&_nc_sid=7bff83', taken_at_timestamp=datetime.datetime(2021, 4, 29, 9, 8, 36)),\n",
       " Post(likes=28, comments=2, caption=None, is_video=True, timestamp=1619494490, location=None, shortcode='COJ4xDuJ0cu', post_url='https://www.instagram.com/p/COJ4xDuJ0cu/', display_url='https://instagram.fmaa8-1.fna.fbcdn.net/v/t51.2885-15/178491354_1084686205373310_2039516003391459964_n.jpg?stp=dst-jpg_e35&_nc_ht=instagram.fmaa8-1.fna.fbcdn.net&_nc_cat=106&_nc_ohc=YVbOmGLeuFwAX_3bfdY&edm=ABfd0MgBAAAA&ccb=7-5&oh=00_AT9YE64nvCBEZbrvuu4pn1HjAxRZMCD5G5t4Lk07I6GdkA&oe=63304803&_nc_sid=7bff83', video_url='https://instagram.fmaa8-1.fna.fbcdn.net/v/t50.2886-16/178856809_238998397982171_7816623494068352948_n.mp4?efg=eyJ2ZW5jb2RlX3RhZyI6InZ0c192b2RfdXJsZ2VuLjcyMC5mZWVkLmRlZmF1bHQiLCJxZV9ncm91cHMiOiJbXCJpZ193ZWJfZGVsaXZlcnlfdnRzX290ZlwiXSJ9&_nc_ht=instagram.fmaa8-1.fna.fbcdn.net&_nc_cat=111&_nc_ohc=WPFofqymYi0AX-3cc28&edm=ABfd0MgBAAAA&vs=17991687949323686_2619874883&_nc_vs=HBksFQAYJEdHa2pxUXJiRlowbVh0a0FBTFMzNmxLbk9YcHNia1lMQUFBRhUAAsgBABUAGCRHRUdKaGdweVk2UVR0TElCQUU2MkYtSnNEdW9wYmtZTEFBQUYVAgLIAQAoABgAGwAVAAAmzM%2BaqIjW9T8VAigCQzMsF0BNUQYk3S8bGBJkYXNoX2Jhc2VsaW5lXzJfdjERAHXqBwA%3D&ccb=7-5&oe=633013C2&oh=00_AT-3FTOmYZLsEmnbz1VogicoSPnIk1sf1qcgTjNAhTZJXQ&_nc_sid=7bff83', video_view_count=95, post_source='https://instagram.fmaa8-1.fna.fbcdn.net/v/t50.2886-16/178856809_238998397982171_7816623494068352948_n.mp4?efg=eyJ2ZW5jb2RlX3RhZyI6InZ0c192b2RfdXJsZ2VuLjcyMC5mZWVkLmRlZmF1bHQiLCJxZV9ncm91cHMiOiJbXCJpZ193ZWJfZGVsaXZlcnlfdnRzX290ZlwiXSJ9&_nc_ht=instagram.fmaa8-1.fna.fbcdn.net&_nc_cat=111&_nc_ohc=WPFofqymYi0AX-3cc28&edm=ABfd0MgBAAAA&vs=17991687949323686_2619874883&_nc_vs=HBksFQAYJEdHa2pxUXJiRlowbVh0a0FBTFMzNmxLbk9YcHNia1lMQUFBRhUAAsgBABUAGCRHRUdKaGdweVk2UVR0TElCQUU2MkYtSnNEdW9wYmtZTEFBQUYVAgLIAQAoABgAGwAVAAAmzM%2BaqIjW9T8VAigCQzMsF0BNUQYk3S8bGBJkYXNoX2Jhc2VsaW5lXzJfdjERAHXqBwA%3D&ccb=7-5&oe=633013C2&oh=00_AT-3FTOmYZLsEmnbz1VogicoSPnIk1sf1qcgTjNAhTZJXQ&_nc_sid=7bff83', taken_at_timestamp=datetime.datetime(2021, 4, 27, 9, 4, 50)),\n",
       " Post(likes=37, comments=0, caption=None, is_video=True, timestamp=1619408004, location=None, shortcode='COHTzBApPeV', post_url='https://www.instagram.com/p/COHTzBApPeV/', display_url='https://instagram.fmaa8-1.fna.fbcdn.net/v/t51.2885-15/177667708_281504196973268_3108203963746179746_n.jpg?stp=dst-jpg_e35&_nc_ht=instagram.fmaa8-1.fna.fbcdn.net&_nc_cat=108&_nc_ohc=NTwR2T7yGV4AX8tAAAR&edm=ABfd0MgBAAAA&ccb=7-5&oh=00_AT_6VH3-8vF8MsN_QcuK4-pKA5naPl9VrILKO50jL-aXHw&oe=63301552&_nc_sid=7bff83', video_url='https://instagram.fmaa8-1.fna.fbcdn.net/v/t50.2886-16/177941489_466492324431953_1737844979948094222_n.mp4?efg=eyJ2ZW5jb2RlX3RhZyI6InZ0c192b2RfdXJsZ2VuLjcyMC5mZWVkLmRlZmF1bHQiLCJxZV9ncm91cHMiOiJbXCJpZ193ZWJfZGVsaXZlcnlfdnRzX290ZlwiXSJ9&_nc_ht=instagram.fmaa8-1.fna.fbcdn.net&_nc_cat=105&_nc_ohc=9YIQPDqa8rsAX8Ta4QY&edm=ABfd0MgBAAAA&vs=17923340716597438_2836379288&_nc_vs=HBksFQAYJEdQRXJtd3BSeUVtMVJhZ0JBQTZEZ0VETkVCNFlia1lMQUFBRhUAAsgBABUAGCRHRlVWWXdweHpEMHlzM1VBQU9PN2RzYVV5RzFzYmtZTEFBQUYVAgLIAQAoABgAGwAVAAAm%2FN7dy93L1j8VAigCQzMsF0BLYgxJul41GBJkYXNoX2Jhc2VsaW5lXzJfdjERAHXqBwA%3D&ccb=7-5&oe=63307C83&oh=00_AT_k0gcIS3qiN42l9QpLqRcQDaJo4qf0yq7e51FWmchz3Q&_nc_sid=7bff83', video_view_count=81, post_source='https://instagram.fmaa8-1.fna.fbcdn.net/v/t50.2886-16/177941489_466492324431953_1737844979948094222_n.mp4?efg=eyJ2ZW5jb2RlX3RhZyI6InZ0c192b2RfdXJsZ2VuLjcyMC5mZWVkLmRlZmF1bHQiLCJxZV9ncm91cHMiOiJbXCJpZ193ZWJfZGVsaXZlcnlfdnRzX290ZlwiXSJ9&_nc_ht=instagram.fmaa8-1.fna.fbcdn.net&_nc_cat=105&_nc_ohc=9YIQPDqa8rsAX8Ta4QY&edm=ABfd0MgBAAAA&vs=17923340716597438_2836379288&_nc_vs=HBksFQAYJEdQRXJtd3BSeUVtMVJhZ0JBQTZEZ0VETkVCNFlia1lMQUFBRhUAAsgBABUAGCRHRlVWWXdweHpEMHlzM1VBQU9PN2RzYVV5RzFzYmtZTEFBQUYVAgLIAQAoABgAGwAVAAAm%2FN7dy93L1j8VAigCQzMsF0BLYgxJul41GBJkYXNoX2Jhc2VsaW5lXzJfdjERAHXqBwA%3D&ccb=7-5&oe=63307C83&oh=00_AT_k0gcIS3qiN42l9QpLqRcQDaJo4qf0yq7e51FWmchz3Q&_nc_sid=7bff83', taken_at_timestamp=datetime.datetime(2021, 4, 26, 9, 3, 24)),\n",
       " Post(likes=38, comments=7, caption=None, is_video=True, timestamp=1619281781, location=None, shortcode='CODjDVmpf5F', post_url='https://www.instagram.com/p/CODjDVmpf5F/', display_url='https://instagram.fmaa8-1.fna.fbcdn.net/v/t51.2885-15/176584067_897007454424639_4078812200773877044_n.jpg?stp=dst-jpg_e35&_nc_ht=instagram.fmaa8-1.fna.fbcdn.net&_nc_cat=103&_nc_ohc=SLOKc7jIPNAAX_BQOXq&edm=ABfd0MgBAAAA&ccb=7-5&oh=00_AT_tW5jT5Mhecb_wSdGmxt5QpdtUNn3nNKEqaWkACJI9QQ&oe=63303311&_nc_sid=7bff83', video_url='https://instagram.fmaa8-1.fna.fbcdn.net/v/t50.2886-16/176413555_2173742559428845_6706710560735769335_n.mp4?efg=eyJ2ZW5jb2RlX3RhZyI6InZ0c192b2RfdXJsZ2VuLjcyMC5mZWVkLmRlZmF1bHQiLCJxZV9ncm91cHMiOiJbXCJpZ193ZWJfZGVsaXZlcnlfdnRzX290ZlwiXSJ9&_nc_ht=instagram.fmaa8-1.fna.fbcdn.net&_nc_cat=101&_nc_ohc=_XOHw0kx00IAX9cytQT&edm=ABfd0MgBAAAA&vs=17924111722578414_1614352536&_nc_vs=HBksFQAYJEdIUGJnd3J0Z0JiaEFia0hBUGN5QktpNEJSTmRia1lMQUFBRhUAAsgBABUAGCRHSkF4YWdwNnBGQTBwc1FCQU5rYjJqRFNvR3RiYmtZTEFBQUYVAgLIAQAoABgAGwAVAAAm3KqO%2F8b41j8VAigCQzMsF0BMBDlYEGJOGBJkYXNoX2Jhc2VsaW5lXzJfdjERAHXqBwA%3D&ccb=7-5&oe=633045FF&oh=00_AT_SNkoyk7uW7olgCwZk2S-WKtyPIBciAI2hSR8BuRVNWw&_nc_sid=7bff83', video_view_count=109, post_source='https://instagram.fmaa8-1.fna.fbcdn.net/v/t50.2886-16/176413555_2173742559428845_6706710560735769335_n.mp4?efg=eyJ2ZW5jb2RlX3RhZyI6InZ0c192b2RfdXJsZ2VuLjcyMC5mZWVkLmRlZmF1bHQiLCJxZV9ncm91cHMiOiJbXCJpZ193ZWJfZGVsaXZlcnlfdnRzX290ZlwiXSJ9&_nc_ht=instagram.fmaa8-1.fna.fbcdn.net&_nc_cat=101&_nc_ohc=_XOHw0kx00IAX9cytQT&edm=ABfd0MgBAAAA&vs=17924111722578414_1614352536&_nc_vs=HBksFQAYJEdIUGJnd3J0Z0JiaEFia0hBUGN5QktpNEJSTmRia1lMQUFBRhUAAsgBABUAGCRHSkF4YWdwNnBGQTBwc1FCQU5rYjJqRFNvR3RiYmtZTEFBQUYVAgLIAQAoABgAGwAVAAAm3KqO%2F8b41j8VAigCQzMsF0BMBDlYEGJOGBJkYXNoX2Jhc2VsaW5lXzJfdjERAHXqBwA%3D&ccb=7-5&oe=633045FF&oh=00_AT_SNkoyk7uW7olgCwZk2S-WKtyPIBciAI2hSR8BuRVNWw&_nc_sid=7bff83', taken_at_timestamp=datetime.datetime(2021, 4, 24, 21, 59, 41)),\n",
       " Post(likes=32, comments=15, caption=None, is_video=True, timestamp=1619206877, location=None, shortcode='COBUHQSpkY6', post_url='https://www.instagram.com/p/COBUHQSpkY6/', display_url='https://instagram.fmaa8-1.fna.fbcdn.net/v/t51.2885-15/176140844_521352359023940_2048207063077125127_n.jpg?stp=dst-jpg_e35&_nc_ht=instagram.fmaa8-1.fna.fbcdn.net&_nc_cat=108&_nc_ohc=i7JCo6QsHLAAX_-f-PG&edm=ABfd0MgBAAAA&ccb=7-5&oh=00_AT-mU1aiZjlJZIA5eeX6_s21wePgUO_fdxdv9IBdlmhvdw&oe=63303435&_nc_sid=7bff83', video_url='https://instagram.fmaa8-1.fna.fbcdn.net/v/t50.2886-16/176854925_776176569704886_1576975210635395439_n.mp4?efg=eyJ2ZW5jb2RlX3RhZyI6InZ0c192b2RfdXJsZ2VuLjcyMC5mZWVkLmRlZmF1bHQiLCJxZV9ncm91cHMiOiJbXCJpZ193ZWJfZGVsaXZlcnlfdnRzX290ZlwiXSJ9&_nc_ht=instagram.fmaa8-1.fna.fbcdn.net&_nc_cat=106&_nc_ohc=2tHarH-hF-8AX-AQ45z&edm=ABfd0MgBAAAA&vs=17957153020425740_2096470308&_nc_vs=HBksFQAYJEdJMlhpZ3EyWWJpdzdjRUNBRzhCaFZHWml1SVZia1lMQUFBRhUAAsgBABUAGCRHSlBHZGdwNE11Z3FYOGNDQUlCdjJwNWRQcHdxYmtZTEFBQUYVAgLIAQAoABgAGwAVAAAmmM78ve775T8VAigCQzMsF0BNczMzMzMzGBJkYXNoX2Jhc2VsaW5lXzJfdjERAHXqBwA%3D&ccb=7-5&oe=63307B8C&oh=00_AT_kkhkH4FKsC1W814CVEDX6oBa2mh30XsXQjnwTsj9nKw&_nc_sid=7bff83', video_view_count=132, post_source='https://instagram.fmaa8-1.fna.fbcdn.net/v/t50.2886-16/176854925_776176569704886_1576975210635395439_n.mp4?efg=eyJ2ZW5jb2RlX3RhZyI6InZ0c192b2RfdXJsZ2VuLjcyMC5mZWVkLmRlZmF1bHQiLCJxZV9ncm91cHMiOiJbXCJpZ193ZWJfZGVsaXZlcnlfdnRzX290ZlwiXSJ9&_nc_ht=instagram.fmaa8-1.fna.fbcdn.net&_nc_cat=106&_nc_ohc=2tHarH-hF-8AX-AQ45z&edm=ABfd0MgBAAAA&vs=17957153020425740_2096470308&_nc_vs=HBksFQAYJEdJMlhpZ3EyWWJpdzdjRUNBRzhCaFZHWml1SVZia1lMQUFBRhUAAsgBABUAGCRHSlBHZGdwNE11Z3FYOGNDQUlCdjJwNWRQcHdxYmtZTEFBQUYVAgLIAQAoABgAGwAVAAAmmM78ve775T8VAigCQzMsF0BNczMzMzMzGBJkYXNoX2Jhc2VsaW5lXzJfdjERAHXqBwA%3D&ccb=7-5&oe=63307B8C&oh=00_AT_kkhkH4FKsC1W814CVEDX6oBa2mh30XsXQjnwTsj9nKw&_nc_sid=7bff83', taken_at_timestamp=datetime.datetime(2021, 4, 24, 1, 11, 17)),\n",
       " Post(likes=39, comments=1, caption=None, is_video=False, timestamp=1604944205, location=None, shortcode='CHYQX9AJhTQ', post_url='https://www.instagram.com/p/CHYQX9AJhTQ/', display_url='https://instagram.fmaa8-1.fna.fbcdn.net/v/t51.2885-15/124241931_3353051548149121_6653421318833394581_n.jpg?stp=dst-jpg_e35&_nc_ht=instagram.fmaa8-1.fna.fbcdn.net&_nc_cat=101&_nc_ohc=_ajxXeSKGd0AX9fXr0G&edm=ABfd0MgBAAAA&ccb=7-5&oh=00_AT_wETRc5Iy5S0_OlPdXEKEnrECaFzRx5pkXC3Bte4aQgw&oe=6334162A&_nc_sid=7bff83', post_source='https://instagram.fmaa8-1.fna.fbcdn.net/v/t51.2885-15/124241931_3353051548149121_6653421318833394581_n.jpg?stp=dst-jpg_e35&_nc_ht=instagram.fmaa8-1.fna.fbcdn.net&_nc_cat=101&_nc_ohc=_ajxXeSKGd0AX9fXr0G&edm=ABfd0MgBAAAA&ccb=7-5&oh=00_AT_wETRc5Iy5S0_OlPdXEKEnrECaFzRx5pkXC3Bte4aQgw&oe=6334162A&_nc_sid=7bff83', taken_at_timestamp=datetime.datetime(2020, 11, 9, 23, 20, 5)),\n",
       " Post(likes=37, comments=3, caption=None, is_video=True, timestamp=1604474186, location=None, shortcode='CHKPrfIpiAE', post_url='https://www.instagram.com/p/CHKPrfIpiAE/', display_url='https://instagram.fmaa8-1.fna.fbcdn.net/v/t51.2885-15/123250664_4663837007022157_4951780348128179858_n.jpg?stp=dst-jpg_e35&_nc_ht=instagram.fmaa8-1.fna.fbcdn.net&_nc_cat=101&_nc_ohc=36NjTT11kNwAX8KNaqP&edm=ABfd0MgBAAAA&ccb=7-5&oh=00_AT-d5jLw5suivsPVpHi68Pd-Los0g-KGZFePUnCAT-P6Lw&oe=63308458&_nc_sid=7bff83', video_url='https://instagram.fmaa8-1.fna.fbcdn.net/v/t50.2886-16/123588877_383498836034616_6207976656815179920_n.mp4?efg=eyJ2ZW5jb2RlX3RhZyI6InZ0c192b2RfdXJsZ2VuLjcyMC5mZWVkLmRlZmF1bHQiLCJxZV9ncm91cHMiOiJbXCJpZ193ZWJfZGVsaXZlcnlfdnRzX290ZlwiXSJ9&_nc_ht=instagram.fmaa8-1.fna.fbcdn.net&_nc_cat=100&_nc_ohc=YELQ6cJHIagAX-Lnf7K&edm=ABfd0MgBAAAA&vs=17858834432258717_1950600700&_nc_vs=HBksFQAYJEdBM1JYUWM0eE9SSHlsd0JBSkRJWXN2Z0tTZFdia1lMQUFBRhUAAsgBABUAGCRHQmN5VndjSkZvWGFCVXdCQUZ2Rm1tcUJLMm9QYmtZTEFBQUYVAgLIAQAoABgAGwAVAAAmuqe83%2FyguT8VAigCQzMsF0BFmZmZmZmaGBJkYXNoX2Jhc2VsaW5lXzJfdjERAHXqBwA%3D&ccb=7-5&oe=63302A20&oh=00_AT8h6p4TosTdPMaR3Ve5FJlgeIn3fVjP4l-odEOhTT6NAQ&_nc_sid=7bff83', video_view_count=141, post_source='https://instagram.fmaa8-1.fna.fbcdn.net/v/t50.2886-16/123588877_383498836034616_6207976656815179920_n.mp4?efg=eyJ2ZW5jb2RlX3RhZyI6InZ0c192b2RfdXJsZ2VuLjcyMC5mZWVkLmRlZmF1bHQiLCJxZV9ncm91cHMiOiJbXCJpZ193ZWJfZGVsaXZlcnlfdnRzX290ZlwiXSJ9&_nc_ht=instagram.fmaa8-1.fna.fbcdn.net&_nc_cat=100&_nc_ohc=YELQ6cJHIagAX-Lnf7K&edm=ABfd0MgBAAAA&vs=17858834432258717_1950600700&_nc_vs=HBksFQAYJEdBM1JYUWM0eE9SSHlsd0JBSkRJWXN2Z0tTZFdia1lMQUFBRhUAAsgBABUAGCRHQmN5VndjSkZvWGFCVXdCQUZ2Rm1tcUJLMm9QYmtZTEFBQUYVAgLIAQAoABgAGwAVAAAmuqe83%2FyguT8VAigCQzMsF0BFmZmZmZmaGBJkYXNoX2Jhc2VsaW5lXzJfdjERAHXqBwA%3D&ccb=7-5&oe=63302A20&oh=00_AT8h6p4TosTdPMaR3Ve5FJlgeIn3fVjP4l-odEOhTT6NAQ&_nc_sid=7bff83', taken_at_timestamp=datetime.datetime(2020, 11, 4, 12, 46, 26)),\n",
       " Post(likes=36, comments=8, caption=None, is_video=True, timestamp=1604324062, location=None, shortcode='CHFxc1upzQs', post_url='https://www.instagram.com/p/CHFxc1upzQs/', display_url='https://instagram.fmaa8-1.fna.fbcdn.net/v/t51.2885-15/123195759_419306655739701_2338669587674496123_n.jpg?stp=dst-jpg_e35&_nc_ht=instagram.fmaa8-1.fna.fbcdn.net&_nc_cat=109&_nc_ohc=Lo5jl9UJD98AX_fwrA6&edm=ABfd0MgBAAAA&ccb=7-5&oh=00_AT91epFLiG5xj11j8HBTEl_TIMBCHdVDE2zct2U7xNKrfg&oe=63308A36&_nc_sid=7bff83', video_url='https://instagram.fmaa8-1.fna.fbcdn.net/v/t50.2886-16/123659268_667859657249539_1461204400596983135_n.mp4?efg=eyJ2ZW5jb2RlX3RhZyI6InZ0c192b2RfdXJsZ2VuLjcyMC5mZWVkLmRlZmF1bHQiLCJxZV9ncm91cHMiOiJbXCJpZ193ZWJfZGVsaXZlcnlfdnRzX290ZlwiXSJ9&_nc_ht=instagram.fmaa8-1.fna.fbcdn.net&_nc_cat=107&_nc_ohc=bQ1d1gnkZk0AX-7AbIs&edm=ABfd0MgBAAAA&vs=17906928220555873_1117661192&_nc_vs=HBksFQAYJEdBVGtYZ2NEVTZFeGFsOENBRjhkMGhtcFBVY1Via1lMQUFBRhUAAsgBABUAGCRHSS1GV0FlYUw0dUNRNm9BQUVrbEVMSDA1YUVHYmtZTEFBQUYVAgLIAQAoABgAGwAVAAAmwtv6pbKQzz8VAigCQzMsF0BNe6XjU%2FfPGBJkYXNoX2Jhc2VsaW5lXzJfdjERAHXqBwA%3D&ccb=7-5&oe=6330252C&oh=00_AT_a-qYj_DkSvDBvdDLg6PJwrHEF2NXmOpKrO8yjqKmhIA&_nc_sid=7bff83', video_view_count=132, post_source='https://instagram.fmaa8-1.fna.fbcdn.net/v/t50.2886-16/123659268_667859657249539_1461204400596983135_n.mp4?efg=eyJ2ZW5jb2RlX3RhZyI6InZ0c192b2RfdXJsZ2VuLjcyMC5mZWVkLmRlZmF1bHQiLCJxZV9ncm91cHMiOiJbXCJpZ193ZWJfZGVsaXZlcnlfdnRzX290ZlwiXSJ9&_nc_ht=instagram.fmaa8-1.fna.fbcdn.net&_nc_cat=107&_nc_ohc=bQ1d1gnkZk0AX-7AbIs&edm=ABfd0MgBAAAA&vs=17906928220555873_1117661192&_nc_vs=HBksFQAYJEdBVGtYZ2NEVTZFeGFsOENBRjhkMGhtcFBVY1Via1lMQUFBRhUAAsgBABUAGCRHSS1GV0FlYUw0dUNRNm9BQUVrbEVMSDA1YUVHYmtZTEFBQUYVAgLIAQAoABgAGwAVAAAmwtv6pbKQzz8VAigCQzMsF0BNe6XjU%2FfPGBJkYXNoX2Jhc2VsaW5lXzJfdjERAHXqBwA%3D&ccb=7-5&oe=6330252C&oh=00_AT_a-qYj_DkSvDBvdDLg6PJwrHEF2NXmOpKrO8yjqKmhIA&_nc_sid=7bff83', taken_at_timestamp=datetime.datetime(2020, 11, 2, 19, 4, 22)),\n",
       " Post(likes=46, comments=9, caption=None, is_video=True, timestamp=1604120827, location=None, shortcode='CG_tyT9pOfM', post_url='https://www.instagram.com/p/CG_tyT9pOfM/', display_url='https://instagram.fmaa8-1.fna.fbcdn.net/v/t51.2885-15/123047195_1265845013770899_4511834528296947857_n.jpg?stp=dst-jpg_e35&_nc_ht=instagram.fmaa8-1.fna.fbcdn.net&_nc_cat=103&_nc_ohc=VRpxRQJFpBwAX8whQX7&edm=ABfd0MgBAAAA&ccb=7-5&oh=00_AT9m0k4g4DiGqlCCN8qMlkQhoFsjqhPVGuQtgGKrVZW-rw&oe=63300C2B&_nc_sid=7bff83', video_url='https://instagram.fmaa8-1.fna.fbcdn.net/v/t50.2886-16/123140633_192045325770633_8603962433364849391_n.mp4?efg=eyJ2ZW5jb2RlX3RhZyI6InZ0c192b2RfdXJsZ2VuLjcyMC5mZWVkLmRlZmF1bHQiLCJxZV9ncm91cHMiOiJbXCJpZ193ZWJfZGVsaXZlcnlfdnRzX290ZlwiXSJ9&_nc_ht=instagram.fmaa8-1.fna.fbcdn.net&_nc_cat=109&_nc_ohc=riZyryf5PlwAX9-K0Am&edm=ABfd0MgBAAAA&vs=18185789854051297_1072764618&_nc_vs=HBksFQAYJEdCbjZWZ2VKWDJ3SnFxNEFBTzl5aEZVLWFtZDNia1lMQUFBRhUAAsgBABUAGCRHT0tFVndkNGl2Q29VME1CQUJ3azZXSkluTU5GYmtZTEFBQUYVAgLIAQAoABgAGwAVAAAmwqasiKT4zUAVAigCQzMsF0BN3dLxqfvnGBJkYXNoX2Jhc2VsaW5lXzJfdjERAHXqBwA%3D&ccb=7-5&oe=63306E67&oh=00_AT-UsdhbKTBAJOdu1Y8iPRnuDZVnkn34QGwwp2uwG6FSew&_nc_sid=7bff83', video_view_count=154, post_source='https://instagram.fmaa8-1.fna.fbcdn.net/v/t50.2886-16/123140633_192045325770633_8603962433364849391_n.mp4?efg=eyJ2ZW5jb2RlX3RhZyI6InZ0c192b2RfdXJsZ2VuLjcyMC5mZWVkLmRlZmF1bHQiLCJxZV9ncm91cHMiOiJbXCJpZ193ZWJfZGVsaXZlcnlfdnRzX290ZlwiXSJ9&_nc_ht=instagram.fmaa8-1.fna.fbcdn.net&_nc_cat=109&_nc_ohc=riZyryf5PlwAX9-K0Am&edm=ABfd0MgBAAAA&vs=18185789854051297_1072764618&_nc_vs=HBksFQAYJEdCbjZWZ2VKWDJ3SnFxNEFBTzl5aEZVLWFtZDNia1lMQUFBRhUAAsgBABUAGCRHT0tFVndkNGl2Q29VME1CQUJ3azZXSkluTU5GYmtZTEFBQUYVAgLIAQAoABgAGwAVAAAmwqasiKT4zUAVAigCQzMsF0BN3dLxqfvnGBJkYXNoX2Jhc2VsaW5lXzJfdjERAHXqBwA%3D&ccb=7-5&oe=63306E67&oh=00_AT-UsdhbKTBAJOdu1Y8iPRnuDZVnkn34QGwwp2uwG6FSew&_nc_sid=7bff83', taken_at_timestamp=datetime.datetime(2020, 10, 31, 10, 37, 7)),\n",
       " Post(likes=52, comments=60, caption=None, is_video=True, timestamp=1603957376, location=None, shortcode='CG61xZapSJO', post_url='https://www.instagram.com/p/CG61xZapSJO/', display_url='https://instagram.fmaa8-1.fna.fbcdn.net/v/t51.2885-15/122792482_274730393835729_1974872777917379104_n.jpg?stp=dst-jpg_e35&_nc_ht=instagram.fmaa8-1.fna.fbcdn.net&_nc_cat=109&_nc_ohc=4WNieNcJ4ykAX-6lw9R&edm=ABfd0MgBAAAA&ccb=7-5&oh=00_AT8PPfXDJ54E0BDIyXJucyfQ_GU9uiEbnBfZo4QM7UMivw&oe=63303B7E&_nc_sid=7bff83', video_url='https://instagram.fmaa8-1.fna.fbcdn.net/v/t50.2886-16/122880658_434652207500208_3979883399117776026_n.mp4?efg=eyJ2ZW5jb2RlX3RhZyI6InZ0c192b2RfdXJsZ2VuLjcyMC5mZWVkLmRlZmF1bHQiLCJxZV9ncm91cHMiOiJbXCJpZ193ZWJfZGVsaXZlcnlfdnRzX290ZlwiXSJ9&_nc_ht=instagram.fmaa8-1.fna.fbcdn.net&_nc_cat=100&_nc_ohc=NiO019e3s-0AX_KeVhh&edm=ABfd0MgBAAAA&vs=17921517163463262_138237700&_nc_vs=HBksFQAYJEdKSUNVd2V3eTIxYVVJc0JBSnFrNDN2ZFlqczNia1lMQUFBRhUAAsgBABUAGCRHT2E2VWdkTXZZSzAxM29BQUcwTVB4RHpka0FmYmtZTEFBQUYVAgLIAQAoABgAGwAVAAAmvPm%2F%2FMrh1T8VAigCQzMsF0BKN2yLQ5WBGBJkYXNoX2Jhc2VsaW5lXzFfdjERAHXqBwA%3D&ccb=7-5&oe=63306267&oh=00_AT-A8B7SZUyQp5KJbGeovn-YA9DAQgsrI8EhZI8_J68WPQ&_nc_sid=7bff83', video_view_count=153, post_source='https://instagram.fmaa8-1.fna.fbcdn.net/v/t50.2886-16/122880658_434652207500208_3979883399117776026_n.mp4?efg=eyJ2ZW5jb2RlX3RhZyI6InZ0c192b2RfdXJsZ2VuLjcyMC5mZWVkLmRlZmF1bHQiLCJxZV9ncm91cHMiOiJbXCJpZ193ZWJfZGVsaXZlcnlfdnRzX290ZlwiXSJ9&_nc_ht=instagram.fmaa8-1.fna.fbcdn.net&_nc_cat=100&_nc_ohc=NiO019e3s-0AX_KeVhh&edm=ABfd0MgBAAAA&vs=17921517163463262_138237700&_nc_vs=HBksFQAYJEdKSUNVd2V3eTIxYVVJc0JBSnFrNDN2ZFlqczNia1lMQUFBRhUAAsgBABUAGCRHT2E2VWdkTXZZSzAxM29BQUcwTVB4RHpka0FmYmtZTEFBQUYVAgLIAQAoABgAGwAVAAAmvPm%2F%2FMrh1T8VAigCQzMsF0BKN2yLQ5WBGBJkYXNoX2Jhc2VsaW5lXzFfdjERAHXqBwA%3D&ccb=7-5&oe=63306267&oh=00_AT-A8B7SZUyQp5KJbGeovn-YA9DAQgsrI8EhZI8_J68WPQ&_nc_sid=7bff83', taken_at_timestamp=datetime.datetime(2020, 10, 29, 13, 12, 56))]"
      ]
     },
     "execution_count": 4,
     "metadata": {},
     "output_type": "execute_result"
    }
   ],
   "source": [
    "user.posts\n"
   ]
  },
  {
   "cell_type": "markdown",
   "id": "bab66a44",
   "metadata": {},
   "source": [
    "Create tuples for data"
   ]
  },
  {
   "cell_type": "code",
   "execution_count": 5,
   "id": "5efce701",
   "metadata": {},
   "outputs": [],
   "source": [
    "posts = user.posts\n",
    "urls = []\n",
    "likes = []\n",
    "comments = []\n",
    "datetimes = []\n",
    "viewcounts = []\n"
   ]
  },
  {
   "cell_type": "markdown",
   "id": "19027907",
   "metadata": {},
   "source": [
    "Append data values to tuples"
   ]
  },
  {
   "cell_type": "code",
   "execution_count": 6,
   "id": "02b08a01",
   "metadata": {},
   "outputs": [],
   "source": [
    "for post in posts:   \n",
    "    urls.append(post.post_url)\n",
    "    likes.append(post.likes)\n",
    "    comments.append(post.comments)\n",
    "    datetimes.append(post.taken_at_timestamp)\n",
    "    if post.is_video == True:\n",
    "        viewcounts.append(post.video_view_count)\n",
    "    else:\n",
    "        viewcounts.append(0)\n"
   ]
  },
  {
   "cell_type": "markdown",
   "id": "10a3cc47",
   "metadata": {},
   "source": [
    "Create a pandas dataframe "
   ]
  },
  {
   "cell_type": "code",
   "execution_count": 7,
   "id": "c0703fd6",
   "metadata": {
    "scrolled": false
   },
   "outputs": [
    {
     "data": {
      "text/html": [
       "<style type=\"text/css\">\n",
       "</style>\n",
       "<table id=\"T_1f9be\">\n",
       "  <caption>pokayyman's Analytics</caption>\n",
       "  <thead>\n",
       "    <tr>\n",
       "      <th id=\"T_1f9be_level0_col0\" class=\"col_heading level0 col0\" >URls</th>\n",
       "      <th id=\"T_1f9be_level0_col1\" class=\"col_heading level0 col1\" >Views</th>\n",
       "      <th id=\"T_1f9be_level0_col2\" class=\"col_heading level0 col2\" >Likes</th>\n",
       "      <th id=\"T_1f9be_level0_col3\" class=\"col_heading level0 col3\" >Comments</th>\n",
       "      <th id=\"T_1f9be_level0_col4\" class=\"col_heading level0 col4\" >Date and time</th>\n",
       "    </tr>\n",
       "  </thead>\n",
       "  <tbody>\n",
       "    <tr>\n",
       "      <td id=\"T_1f9be_row0_col0\" class=\"data row0 col0\" >https://www.instagram.com/p/COUMGsqpaee/</td>\n",
       "      <td id=\"T_1f9be_row0_col1\" class=\"data row0 col1\" >81</td>\n",
       "      <td id=\"T_1f9be_row0_col2\" class=\"data row0 col2\" >19</td>\n",
       "      <td id=\"T_1f9be_row0_col3\" class=\"data row0 col3\" >0</td>\n",
       "      <td id=\"T_1f9be_row0_col4\" class=\"data row0 col4\" >2021-05-01 09:06:08</td>\n",
       "    </tr>\n",
       "    <tr>\n",
       "      <td id=\"T_1f9be_row1_col0\" class=\"data row1 col0\" >https://www.instagram.com/p/CORmjvkpbyB/</td>\n",
       "      <td id=\"T_1f9be_row1_col1\" class=\"data row1 col1\" >92</td>\n",
       "      <td id=\"T_1f9be_row1_col2\" class=\"data row1 col2\" >26</td>\n",
       "      <td id=\"T_1f9be_row1_col3\" class=\"data row1 col3\" >6</td>\n",
       "      <td id=\"T_1f9be_row1_col4\" class=\"data row1 col4\" >2021-04-30 08:59:30</td>\n",
       "    </tr>\n",
       "    <tr>\n",
       "      <td id=\"T_1f9be_row2_col0\" class=\"data row2 col0\" >https://www.instagram.com/p/COPC0KXJudM/</td>\n",
       "      <td id=\"T_1f9be_row2_col1\" class=\"data row2 col1\" >90</td>\n",
       "      <td id=\"T_1f9be_row2_col2\" class=\"data row2 col2\" >26</td>\n",
       "      <td id=\"T_1f9be_row2_col3\" class=\"data row2 col3\" >2</td>\n",
       "      <td id=\"T_1f9be_row2_col4\" class=\"data row2 col4\" >2021-04-29 09:08:36</td>\n",
       "    </tr>\n",
       "    <tr>\n",
       "      <td id=\"T_1f9be_row3_col0\" class=\"data row3 col0\" >https://www.instagram.com/p/COJ4xDuJ0cu/</td>\n",
       "      <td id=\"T_1f9be_row3_col1\" class=\"data row3 col1\" >95</td>\n",
       "      <td id=\"T_1f9be_row3_col2\" class=\"data row3 col2\" >28</td>\n",
       "      <td id=\"T_1f9be_row3_col3\" class=\"data row3 col3\" >2</td>\n",
       "      <td id=\"T_1f9be_row3_col4\" class=\"data row3 col4\" >2021-04-27 09:04:50</td>\n",
       "    </tr>\n",
       "    <tr>\n",
       "      <td id=\"T_1f9be_row4_col0\" class=\"data row4 col0\" >https://www.instagram.com/p/COHTzBApPeV/</td>\n",
       "      <td id=\"T_1f9be_row4_col1\" class=\"data row4 col1\" >81</td>\n",
       "      <td id=\"T_1f9be_row4_col2\" class=\"data row4 col2\" >37</td>\n",
       "      <td id=\"T_1f9be_row4_col3\" class=\"data row4 col3\" >0</td>\n",
       "      <td id=\"T_1f9be_row4_col4\" class=\"data row4 col4\" >2021-04-26 09:03:24</td>\n",
       "    </tr>\n",
       "    <tr>\n",
       "      <td id=\"T_1f9be_row5_col0\" class=\"data row5 col0\" >https://www.instagram.com/p/CODjDVmpf5F/</td>\n",
       "      <td id=\"T_1f9be_row5_col1\" class=\"data row5 col1\" >109</td>\n",
       "      <td id=\"T_1f9be_row5_col2\" class=\"data row5 col2\" >38</td>\n",
       "      <td id=\"T_1f9be_row5_col3\" class=\"data row5 col3\" >7</td>\n",
       "      <td id=\"T_1f9be_row5_col4\" class=\"data row5 col4\" >2021-04-24 21:59:41</td>\n",
       "    </tr>\n",
       "    <tr>\n",
       "      <td id=\"T_1f9be_row6_col0\" class=\"data row6 col0\" >https://www.instagram.com/p/COBUHQSpkY6/</td>\n",
       "      <td id=\"T_1f9be_row6_col1\" class=\"data row6 col1\" >132</td>\n",
       "      <td id=\"T_1f9be_row6_col2\" class=\"data row6 col2\" >32</td>\n",
       "      <td id=\"T_1f9be_row6_col3\" class=\"data row6 col3\" >15</td>\n",
       "      <td id=\"T_1f9be_row6_col4\" class=\"data row6 col4\" >2021-04-24 01:11:17</td>\n",
       "    </tr>\n",
       "    <tr>\n",
       "      <td id=\"T_1f9be_row7_col0\" class=\"data row7 col0\" >https://www.instagram.com/p/CHYQX9AJhTQ/</td>\n",
       "      <td id=\"T_1f9be_row7_col1\" class=\"data row7 col1\" >0</td>\n",
       "      <td id=\"T_1f9be_row7_col2\" class=\"data row7 col2\" >39</td>\n",
       "      <td id=\"T_1f9be_row7_col3\" class=\"data row7 col3\" >1</td>\n",
       "      <td id=\"T_1f9be_row7_col4\" class=\"data row7 col4\" >2020-11-09 23:20:05</td>\n",
       "    </tr>\n",
       "    <tr>\n",
       "      <td id=\"T_1f9be_row8_col0\" class=\"data row8 col0\" >https://www.instagram.com/p/CHKPrfIpiAE/</td>\n",
       "      <td id=\"T_1f9be_row8_col1\" class=\"data row8 col1\" >141</td>\n",
       "      <td id=\"T_1f9be_row8_col2\" class=\"data row8 col2\" >37</td>\n",
       "      <td id=\"T_1f9be_row8_col3\" class=\"data row8 col3\" >3</td>\n",
       "      <td id=\"T_1f9be_row8_col4\" class=\"data row8 col4\" >2020-11-04 12:46:26</td>\n",
       "    </tr>\n",
       "    <tr>\n",
       "      <td id=\"T_1f9be_row9_col0\" class=\"data row9 col0\" >https://www.instagram.com/p/CHFxc1upzQs/</td>\n",
       "      <td id=\"T_1f9be_row9_col1\" class=\"data row9 col1\" >132</td>\n",
       "      <td id=\"T_1f9be_row9_col2\" class=\"data row9 col2\" >36</td>\n",
       "      <td id=\"T_1f9be_row9_col3\" class=\"data row9 col3\" >8</td>\n",
       "      <td id=\"T_1f9be_row9_col4\" class=\"data row9 col4\" >2020-11-02 19:04:22</td>\n",
       "    </tr>\n",
       "    <tr>\n",
       "      <td id=\"T_1f9be_row10_col0\" class=\"data row10 col0\" >https://www.instagram.com/p/CG_tyT9pOfM/</td>\n",
       "      <td id=\"T_1f9be_row10_col1\" class=\"data row10 col1\" >154</td>\n",
       "      <td id=\"T_1f9be_row10_col2\" class=\"data row10 col2\" >46</td>\n",
       "      <td id=\"T_1f9be_row10_col3\" class=\"data row10 col3\" >9</td>\n",
       "      <td id=\"T_1f9be_row10_col4\" class=\"data row10 col4\" >2020-10-31 10:37:07</td>\n",
       "    </tr>\n",
       "    <tr>\n",
       "      <td id=\"T_1f9be_row11_col0\" class=\"data row11 col0\" >https://www.instagram.com/p/CG61xZapSJO/</td>\n",
       "      <td id=\"T_1f9be_row11_col1\" class=\"data row11 col1\" >153</td>\n",
       "      <td id=\"T_1f9be_row11_col2\" class=\"data row11 col2\" >52</td>\n",
       "      <td id=\"T_1f9be_row11_col3\" class=\"data row11 col3\" >60</td>\n",
       "      <td id=\"T_1f9be_row11_col4\" class=\"data row11 col4\" >2020-10-29 13:12:56</td>\n",
       "    </tr>\n",
       "  </tbody>\n",
       "</table>\n"
      ],
      "text/plain": [
       "<pandas.io.formats.style.Styler at 0x1fbd44e5db0>"
      ]
     },
     "execution_count": 7,
     "metadata": {},
     "output_type": "execute_result"
    }
   ],
   "source": [
    "tuplelist = list(zip(urls,viewcounts,likes,comments,datetimes))\n",
    "\n",
    "df = pd.DataFrame(tuplelist,index = ['1','2','3','4','5','6','7','8','9','10','11','12'],columns = ['URls','Views','Likes','Comments','Date and time'])\n",
    "df.style.hide(axis = \"index\").set_caption(user.username + \"'s Analytics\")"
   ]
  },
  {
   "cell_type": "markdown",
   "id": "93f645ed",
   "metadata": {},
   "source": [
    "Attempt to analyze best performing post"
   ]
  },
  {
   "cell_type": "code",
   "execution_count": 8,
   "id": "19f69ddd",
   "metadata": {},
   "outputs": [
    {
     "data": {
      "text/html": [
       "<style type=\"text/css\">\n",
       "#T_3463c_row10_col1, #T_3463c_row11_col2, #T_3463c_row11_col3 {\n",
       "  background-color: lightblue;\n",
       "}\n",
       "</style>\n",
       "<table id=\"T_3463c\">\n",
       "  <caption>pokayyman's Analytics</caption>\n",
       "  <thead>\n",
       "    <tr>\n",
       "      <th id=\"T_3463c_level0_col0\" class=\"col_heading level0 col0\" >URls</th>\n",
       "      <th id=\"T_3463c_level0_col1\" class=\"col_heading level0 col1\" >Views</th>\n",
       "      <th id=\"T_3463c_level0_col2\" class=\"col_heading level0 col2\" >Likes</th>\n",
       "      <th id=\"T_3463c_level0_col3\" class=\"col_heading level0 col3\" >Comments</th>\n",
       "      <th id=\"T_3463c_level0_col4\" class=\"col_heading level0 col4\" >Date and time</th>\n",
       "    </tr>\n",
       "  </thead>\n",
       "  <tbody>\n",
       "    <tr>\n",
       "      <td id=\"T_3463c_row0_col0\" class=\"data row0 col0\" >https://www.instagram.com/p/COUMGsqpaee/</td>\n",
       "      <td id=\"T_3463c_row0_col1\" class=\"data row0 col1\" >81</td>\n",
       "      <td id=\"T_3463c_row0_col2\" class=\"data row0 col2\" >19</td>\n",
       "      <td id=\"T_3463c_row0_col3\" class=\"data row0 col3\" >0</td>\n",
       "      <td id=\"T_3463c_row0_col4\" class=\"data row0 col4\" >2021-05-01 09:06:08</td>\n",
       "    </tr>\n",
       "    <tr>\n",
       "      <td id=\"T_3463c_row1_col0\" class=\"data row1 col0\" >https://www.instagram.com/p/CORmjvkpbyB/</td>\n",
       "      <td id=\"T_3463c_row1_col1\" class=\"data row1 col1\" >92</td>\n",
       "      <td id=\"T_3463c_row1_col2\" class=\"data row1 col2\" >26</td>\n",
       "      <td id=\"T_3463c_row1_col3\" class=\"data row1 col3\" >6</td>\n",
       "      <td id=\"T_3463c_row1_col4\" class=\"data row1 col4\" >2021-04-30 08:59:30</td>\n",
       "    </tr>\n",
       "    <tr>\n",
       "      <td id=\"T_3463c_row2_col0\" class=\"data row2 col0\" >https://www.instagram.com/p/COPC0KXJudM/</td>\n",
       "      <td id=\"T_3463c_row2_col1\" class=\"data row2 col1\" >90</td>\n",
       "      <td id=\"T_3463c_row2_col2\" class=\"data row2 col2\" >26</td>\n",
       "      <td id=\"T_3463c_row2_col3\" class=\"data row2 col3\" >2</td>\n",
       "      <td id=\"T_3463c_row2_col4\" class=\"data row2 col4\" >2021-04-29 09:08:36</td>\n",
       "    </tr>\n",
       "    <tr>\n",
       "      <td id=\"T_3463c_row3_col0\" class=\"data row3 col0\" >https://www.instagram.com/p/COJ4xDuJ0cu/</td>\n",
       "      <td id=\"T_3463c_row3_col1\" class=\"data row3 col1\" >95</td>\n",
       "      <td id=\"T_3463c_row3_col2\" class=\"data row3 col2\" >28</td>\n",
       "      <td id=\"T_3463c_row3_col3\" class=\"data row3 col3\" >2</td>\n",
       "      <td id=\"T_3463c_row3_col4\" class=\"data row3 col4\" >2021-04-27 09:04:50</td>\n",
       "    </tr>\n",
       "    <tr>\n",
       "      <td id=\"T_3463c_row4_col0\" class=\"data row4 col0\" >https://www.instagram.com/p/COHTzBApPeV/</td>\n",
       "      <td id=\"T_3463c_row4_col1\" class=\"data row4 col1\" >81</td>\n",
       "      <td id=\"T_3463c_row4_col2\" class=\"data row4 col2\" >37</td>\n",
       "      <td id=\"T_3463c_row4_col3\" class=\"data row4 col3\" >0</td>\n",
       "      <td id=\"T_3463c_row4_col4\" class=\"data row4 col4\" >2021-04-26 09:03:24</td>\n",
       "    </tr>\n",
       "    <tr>\n",
       "      <td id=\"T_3463c_row5_col0\" class=\"data row5 col0\" >https://www.instagram.com/p/CODjDVmpf5F/</td>\n",
       "      <td id=\"T_3463c_row5_col1\" class=\"data row5 col1\" >109</td>\n",
       "      <td id=\"T_3463c_row5_col2\" class=\"data row5 col2\" >38</td>\n",
       "      <td id=\"T_3463c_row5_col3\" class=\"data row5 col3\" >7</td>\n",
       "      <td id=\"T_3463c_row5_col4\" class=\"data row5 col4\" >2021-04-24 21:59:41</td>\n",
       "    </tr>\n",
       "    <tr>\n",
       "      <td id=\"T_3463c_row6_col0\" class=\"data row6 col0\" >https://www.instagram.com/p/COBUHQSpkY6/</td>\n",
       "      <td id=\"T_3463c_row6_col1\" class=\"data row6 col1\" >132</td>\n",
       "      <td id=\"T_3463c_row6_col2\" class=\"data row6 col2\" >32</td>\n",
       "      <td id=\"T_3463c_row6_col3\" class=\"data row6 col3\" >15</td>\n",
       "      <td id=\"T_3463c_row6_col4\" class=\"data row6 col4\" >2021-04-24 01:11:17</td>\n",
       "    </tr>\n",
       "    <tr>\n",
       "      <td id=\"T_3463c_row7_col0\" class=\"data row7 col0\" >https://www.instagram.com/p/CHYQX9AJhTQ/</td>\n",
       "      <td id=\"T_3463c_row7_col1\" class=\"data row7 col1\" >0</td>\n",
       "      <td id=\"T_3463c_row7_col2\" class=\"data row7 col2\" >39</td>\n",
       "      <td id=\"T_3463c_row7_col3\" class=\"data row7 col3\" >1</td>\n",
       "      <td id=\"T_3463c_row7_col4\" class=\"data row7 col4\" >2020-11-09 23:20:05</td>\n",
       "    </tr>\n",
       "    <tr>\n",
       "      <td id=\"T_3463c_row8_col0\" class=\"data row8 col0\" >https://www.instagram.com/p/CHKPrfIpiAE/</td>\n",
       "      <td id=\"T_3463c_row8_col1\" class=\"data row8 col1\" >141</td>\n",
       "      <td id=\"T_3463c_row8_col2\" class=\"data row8 col2\" >37</td>\n",
       "      <td id=\"T_3463c_row8_col3\" class=\"data row8 col3\" >3</td>\n",
       "      <td id=\"T_3463c_row8_col4\" class=\"data row8 col4\" >2020-11-04 12:46:26</td>\n",
       "    </tr>\n",
       "    <tr>\n",
       "      <td id=\"T_3463c_row9_col0\" class=\"data row9 col0\" >https://www.instagram.com/p/CHFxc1upzQs/</td>\n",
       "      <td id=\"T_3463c_row9_col1\" class=\"data row9 col1\" >132</td>\n",
       "      <td id=\"T_3463c_row9_col2\" class=\"data row9 col2\" >36</td>\n",
       "      <td id=\"T_3463c_row9_col3\" class=\"data row9 col3\" >8</td>\n",
       "      <td id=\"T_3463c_row9_col4\" class=\"data row9 col4\" >2020-11-02 19:04:22</td>\n",
       "    </tr>\n",
       "    <tr>\n",
       "      <td id=\"T_3463c_row10_col0\" class=\"data row10 col0\" >https://www.instagram.com/p/CG_tyT9pOfM/</td>\n",
       "      <td id=\"T_3463c_row10_col1\" class=\"data row10 col1\" >154</td>\n",
       "      <td id=\"T_3463c_row10_col2\" class=\"data row10 col2\" >46</td>\n",
       "      <td id=\"T_3463c_row10_col3\" class=\"data row10 col3\" >9</td>\n",
       "      <td id=\"T_3463c_row10_col4\" class=\"data row10 col4\" >2020-10-31 10:37:07</td>\n",
       "    </tr>\n",
       "    <tr>\n",
       "      <td id=\"T_3463c_row11_col0\" class=\"data row11 col0\" >https://www.instagram.com/p/CG61xZapSJO/</td>\n",
       "      <td id=\"T_3463c_row11_col1\" class=\"data row11 col1\" >153</td>\n",
       "      <td id=\"T_3463c_row11_col2\" class=\"data row11 col2\" >52</td>\n",
       "      <td id=\"T_3463c_row11_col3\" class=\"data row11 col3\" >60</td>\n",
       "      <td id=\"T_3463c_row11_col4\" class=\"data row11 col4\" >2020-10-29 13:12:56</td>\n",
       "    </tr>\n",
       "  </tbody>\n",
       "</table>\n"
      ],
      "text/plain": [
       "<pandas.io.formats.style.Styler at 0x1fbd46a9750>"
      ]
     },
     "execution_count": 8,
     "metadata": {},
     "output_type": "execute_result"
    }
   ],
   "source": [
    "df.style.hide(axis = \"index\").set_caption(user.username + \"'s Analytics\").highlight_max(subset = df.columns[-4:-1], color = 'lightblue', axis = 0)\n"
   ]
  },
  {
   "cell_type": "code",
   "execution_count": null,
   "id": "ef94d529",
   "metadata": {},
   "outputs": [],
   "source": []
  }
 ],
 "metadata": {
  "kernelspec": {
   "display_name": "Python 3 (ipykernel)",
   "language": "python",
   "name": "python3"
  },
  "language_info": {
   "codemirror_mode": {
    "name": "ipython",
    "version": 3
   },
   "file_extension": ".py",
   "mimetype": "text/x-python",
   "name": "python",
   "nbconvert_exporter": "python",
   "pygments_lexer": "ipython3",
   "version": "3.10.2"
  }
 },
 "nbformat": 4,
 "nbformat_minor": 5
}
